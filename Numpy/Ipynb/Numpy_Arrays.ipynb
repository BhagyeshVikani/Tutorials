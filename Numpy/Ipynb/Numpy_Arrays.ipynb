{
 "cells": [
  {
   "cell_type": "markdown",
   "metadata": {},
   "source": [
    "# Numpy Arrays"
   ]
  },
  {
   "cell_type": "code",
   "execution_count": 1,
   "metadata": {
    "collapsed": true
   },
   "outputs": [],
   "source": [
    "import numpy as np"
   ]
  },
  {
   "cell_type": "markdown",
   "metadata": {},
   "source": [
    "## Basic Array Properties"
   ]
  },
  {
   "cell_type": "code",
   "execution_count": 2,
   "metadata": {
    "collapsed": false
   },
   "outputs": [
    {
     "name": "stdout",
     "output_type": "stream",
     "text": [
      "[[ 0  1  2  3  4]\n",
      " [ 5  6  7  8  9]\n",
      " [10 11 12 13 14]]\n"
     ]
    }
   ],
   "source": [
    "a = np.arange(15).reshape(3, 5)\n",
    "print(a)"
   ]
  },
  {
   "cell_type": "code",
   "execution_count": 3,
   "metadata": {
    "collapsed": false
   },
   "outputs": [
    {
     "name": "stdout",
     "output_type": "stream",
     "text": [
      "Shape of array = (3, 5)\n"
     ]
    }
   ],
   "source": [
    "print(\"Shape of array =\", a.shape)"
   ]
  },
  {
   "cell_type": "code",
   "execution_count": 4,
   "metadata": {
    "collapsed": false
   },
   "outputs": [
    {
     "name": "stdout",
     "output_type": "stream",
     "text": [
      "No. of dimensions of array = 2\n"
     ]
    }
   ],
   "source": [
    "print(\"No. of dimensions of array =\", a.ndim)"
   ]
  },
  {
   "cell_type": "code",
   "execution_count": 5,
   "metadata": {
    "collapsed": false
   },
   "outputs": [
    {
     "name": "stdout",
     "output_type": "stream",
     "text": [
      "Data type of array = int64\n"
     ]
    }
   ],
   "source": [
    "print(\"Data type of array =\", a.dtype)"
   ]
  },
  {
   "cell_type": "code",
   "execution_count": 6,
   "metadata": {
    "collapsed": false
   },
   "outputs": [
    {
     "name": "stdout",
     "output_type": "stream",
     "text": [
      "Size of each element of array in bytes = 8\n"
     ]
    }
   ],
   "source": [
    "print(\"Size of each element of array in bytes =\", a.itemsize)"
   ]
  },
  {
   "cell_type": "code",
   "execution_count": 7,
   "metadata": {
    "collapsed": false
   },
   "outputs": [
    {
     "name": "stdout",
     "output_type": "stream",
     "text": [
      "Type of the numpy array = <class 'numpy.ndarray'>\n"
     ]
    }
   ],
   "source": [
    "print(\"Type of the numpy array =\", type(a))"
   ]
  },
  {
   "cell_type": "markdown",
   "metadata": {},
   "source": [
    "## Array Creation"
   ]
  },
  {
   "cell_type": "code",
   "execution_count": 8,
   "metadata": {
    "collapsed": false
   },
   "outputs": [
    {
     "name": "stdout",
     "output_type": "stream",
     "text": [
      "Array = [1 2 3]\n",
      "Array dtype = int64\n"
     ]
    }
   ],
   "source": [
    "b = np.array([1, 2, 3])\n",
    "\n",
    "print(\"Array =\", b)\n",
    "print(\"Array dtype =\", b.dtype)"
   ]
  },
  {
   "cell_type": "code",
   "execution_count": 9,
   "metadata": {
    "collapsed": false
   },
   "outputs": [
    {
     "name": "stdout",
     "output_type": "stream",
     "text": [
      "Array = [ 1.1   2.52  3.76]\n",
      "Array dtype = float64\n"
     ]
    }
   ],
   "source": [
    "c = np.array([1.1, 2.52, 3.76])\n",
    "\n",
    "print(\"Array =\", c)\n",
    "print(\"Array dtype =\", c.dtype)"
   ]
  },
  {
   "cell_type": "code",
   "execution_count": 10,
   "metadata": {
    "collapsed": false
   },
   "outputs": [
    {
     "name": "stdout",
     "output_type": "stream",
     "text": [
      "Array =\n",
      "[[ 1.   5.3]\n",
      " [ 6.   7. ]]\n",
      "Array dtype = float64\n"
     ]
    }
   ],
   "source": [
    "d = np.array([(1, 5.3), (6, 7)])\n",
    "\n",
    "print(\"Array =\")\n",
    "print(d)\n",
    "print(\"Array dtype =\", d.dtype)"
   ]
  },
  {
   "cell_type": "code",
   "execution_count": 11,
   "metadata": {
    "collapsed": false
   },
   "outputs": [
    {
     "name": "stdout",
     "output_type": "stream",
     "text": [
      "Array =\n",
      "[[ 1.0+0.j  5.3+0.j]\n",
      " [ 6.0+0.j  7.0+0.j]]\n",
      "Array dtype = complex128\n"
     ]
    }
   ],
   "source": [
    "e = np.array([(1, 5.3), (6, 7)], dtype = complex)\n",
    "\n",
    "print(\"Array =\")\n",
    "print(e)\n",
    "print(\"Array dtype =\", e.dtype)"
   ]
  },
  {
   "cell_type": "code",
   "execution_count": 12,
   "metadata": {
    "collapsed": false
   },
   "outputs": [
    {
     "name": "stdout",
     "output_type": "stream",
     "text": [
      "Array =\n",
      "[[ 0.  0.  0.  0.  0.  0.]\n",
      " [ 0.  0.  0.  0.  0.  0.]\n",
      " [ 0.  0.  0.  0.  0.  0.]\n",
      " [ 0.  0.  0.  0.  0.  0.]]\n",
      "Array dtype = float64\n"
     ]
    }
   ],
   "source": [
    "f = np.zeros((4, 6))\n",
    "\n",
    "print(\"Array =\")\n",
    "print(f)\n",
    "print(\"Array dtype =\", f.dtype)"
   ]
  },
  {
   "cell_type": "code",
   "execution_count": 13,
   "metadata": {
    "collapsed": false
   },
   "outputs": [
    {
     "name": "stdout",
     "output_type": "stream",
     "text": [
      "Array =\n",
      "[[ 1.  1.  1.  1.  1.  1.]\n",
      " [ 1.  1.  1.  1.  1.  1.]\n",
      " [ 1.  1.  1.  1.  1.  1.]\n",
      " [ 1.  1.  1.  1.  1.  1.]]\n",
      "Array dtype = float64\n"
     ]
    }
   ],
   "source": [
    "g = np.ones((4, 6))\n",
    "\n",
    "print(\"Array =\")\n",
    "print(g)\n",
    "print(\"Array dtype =\", g.dtype)"
   ]
  },
  {
   "cell_type": "code",
   "execution_count": 14,
   "metadata": {
    "collapsed": false
   },
   "outputs": [
    {
     "name": "stdout",
     "output_type": "stream",
     "text": [
      "Array = [ 4.     4.375  4.75   5.125  5.5    5.875  6.25   6.625  7.   ]\n",
      "Array dtype = float64\n"
     ]
    }
   ],
   "source": [
    "h = np.linspace(4, 7, 9)\n",
    "\n",
    "print(\"Array =\", h)\n",
    "print(\"Array dtype =\", h.dtype)"
   ]
  }
 ],
 "metadata": {
  "anaconda-cloud": {},
  "kernelspec": {
   "display_name": "Python [conda env:deeplearning]",
   "language": "python",
   "name": "conda-env-deeplearning-py"
  },
  "language_info": {
   "codemirror_mode": {
    "name": "ipython",
    "version": 3
   },
   "file_extension": ".py",
   "mimetype": "text/x-python",
   "name": "python",
   "nbconvert_exporter": "python",
   "pygments_lexer": "ipython3",
   "version": "3.5.2"
  }
 },
 "nbformat": 4,
 "nbformat_minor": 1
}
