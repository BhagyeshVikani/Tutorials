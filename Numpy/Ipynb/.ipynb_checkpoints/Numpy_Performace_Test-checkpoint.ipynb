{
 "cells": [
  {
   "cell_type": "markdown",
   "metadata": {},
   "source": [
    "# Numpy_Performace_Test\n",
    "\n",
    "Numpy is an optimized python library for linear Algebra. Numpy can give very high performace boost for vectorized operations. NumPy arrays facilitate advanced mathematical and other types of operations on large numbers of data. Typi-cally, such operations are executed more efficiently and with less code than is possible using Python’s built-in sequences."
   ]
  },
  {
   "cell_type": "code",
   "execution_count": 1,
   "metadata": {
    "collapsed": true
   },
   "outputs": [],
   "source": [
    "import time # Library for tracking execution time\n",
    "import numpy as np # Numpy Library for linear algebra"
   ]
  },
  {
   "cell_type": "code",
   "execution_count": 2,
   "metadata": {
    "collapsed": true
   },
   "outputs": [],
   "source": [
    "n = 300 # No. of elments in a dimension\n",
    "\n",
    "x = np.random.randn(n , n) # Randomly initializing array(nxn) with N(0,1) distribution"
   ]
  },
  {
   "cell_type": "code",
   "execution_count": 3,
   "metadata": {
    "collapsed": false
   },
   "outputs": [
    {
     "name": "stdout",
     "output_type": "stream",
     "text": [
      "Python (None-Vectorized) implementation, Execution time = 20.671624 s\n"
     ]
    }
   ],
   "source": [
    "start = time.time()\n",
    "\n",
    "y = np.zeros((n , n)) # Allocate memory for output memory\n",
    "for i in range(n):\n",
    "    for j in range(n):\n",
    "        for k in range(n):\n",
    "            y[i, j] += x[i, k] * x[k, j]\n",
    "            \n",
    "stop = time.time()\n",
    "print(\"Python (None-Vectorized) implementation, Execution time = %f s\" % (stop - start))"
   ]
  },
  {
   "cell_type": "code",
   "execution_count": 4,
   "metadata": {
    "collapsed": false
   },
   "outputs": [
    {
     "name": "stdout",
     "output_type": "stream",
     "text": [
      "Numpy (Vectorized) implementation, Execution time = 0.006236 s\n"
     ]
    }
   ],
   "source": [
    "start = time.time()\n",
    "\n",
    "y = np.matmul(x, x) # Numpy function for matrix multiplication\n",
    "\n",
    "stop = time.time()\n",
    "print(\"Numpy (Vectorized) implementation, Execution time = %f s\" % (stop - start))"
   ]
  },
  {
   "cell_type": "markdown",
   "metadata": {},
   "source": [
    "Non-vectorized python implementation takes ~20s for matrix multiplication of two array of just (300x300) dimensions whereas numpy implementation takes only ~0.006s for the same computation. So numpy giving speedup = ~2500."
   ]
  }
 ],
 "metadata": {
  "anaconda-cloud": {},
  "kernelspec": {
   "display_name": "Python [conda env:deeplearning]",
   "language": "python",
   "name": "conda-env-deeplearning-py"
  },
  "language_info": {
   "codemirror_mode": {
    "name": "ipython",
    "version": 3
   },
   "file_extension": ".py",
   "mimetype": "text/x-python",
   "name": "python",
   "nbconvert_exporter": "python",
   "pygments_lexer": "ipython3",
   "version": "3.5.2"
  }
 },
 "nbformat": 4,
 "nbformat_minor": 1
}
