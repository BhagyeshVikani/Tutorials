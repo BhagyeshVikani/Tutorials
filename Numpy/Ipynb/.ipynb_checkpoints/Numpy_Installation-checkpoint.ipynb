{
 "cells": [
  {
   "cell_type": "markdown",
   "metadata": {},
   "source": [
    "# Numpy Installation\n",
    "\n",
    "### Using pip\n",
    "I recommend a user install, using the --user flag to pip (note: don’t use sudo pip, that will give problems). This installs packages for your local user, and does not need extra permissions to write to the system directories: <br />\n",
    "\n",
    "> #### pip install --user numpy scipy matplotlib ipython jupyter pandas sympy nose\n",
    "> #Consider adding this at the end of your ~/.bashrc file <br />\n",
    "> export PATH=\"$PATH:/home/your_user/.local/bin\"\n",
    "\n",
    "### Using Conda\n",
    "I personally prefer conda for python programming, Conda takes care of all the dependencies of the python packages while installing them.\n",
    "\n",
    "> To install conda, download installation script from [Miniconda](https://conda.io/miniconda.html) and run that .sh script\n",
    "> #### conda install <package-name>\n",
    "> e.g. conda install scipy, numpy"
   ]
  }
 ],
 "metadata": {
  "anaconda-cloud": {},
  "kernelspec": {
   "display_name": "Python [conda env:deeplearning]",
   "language": "python",
   "name": "conda-env-deeplearning-py"
  },
  "language_info": {
   "codemirror_mode": {
    "name": "ipython",
    "version": 3
   },
   "file_extension": ".py",
   "mimetype": "text/x-python",
   "name": "python",
   "nbconvert_exporter": "python",
   "pygments_lexer": "ipython3",
   "version": "3.5.2"
  }
 },
 "nbformat": 4,
 "nbformat_minor": 1
}
